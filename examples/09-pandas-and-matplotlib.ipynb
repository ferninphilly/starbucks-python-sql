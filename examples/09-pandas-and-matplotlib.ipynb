{
 "cells": [
  {
   "cell_type": "markdown",
   "metadata": {},
   "source": [
    "# Introduction to Jupyter, Pandas, and Matplotlib\n",
    "\n",
    "These three software packages are all popular in the world of data science and machine learning. \n",
    "\n",
    "### Jupyter \n",
    "\n",
    "Jupyter is the program that's running this \"notebook\" which is an interactive platform for executing python code. It's popular because it's an easy way to interactively edit and run python code, embed charts, and visualize data. Any code that can be run in a Jupyter notebook could also be run via the terminal or any other \"runtime environment.\"\n",
    "\n",
    "Basic tips for using Jupyter: \n",
    "\n",
    "* Hit shift+enter to execute the code in a cell.\n",
    "* Variables are often saved to global scope. \n",
    "    * Be mindful of the order you execute cells in.\n",
    "    * You can easily overwrite or change the data you're working with if you aren't careful!\n",
    "    \n",
    "https://jupyter.org/documentation\n",
    "\n",
    "### Pandas \n",
    "\n",
    "Pandas is a library that excells at storing and manipulating data. It also has a wealth of tools built-in for performing statistical analysis and making charts. We'll explore the basic features of `pandas` here, but it's a big and powerful library, so feel free to explore the documentation and myriad tutorials all available online.\n",
    "\n",
    "Think of it as a super spreadsheet inside of Python.\n",
    "\n",
    "https://pandas.pydata.org/docs/\n",
    "\n",
    "### Matplotlib\n",
    "\n",
    "Matplotlib is a powerful charting library for Python. Although it is sometimes confusing and clunky to use, it produces high quality charts and is very detail-oriented, making it generally possible to produce whatever kind of chart you need. It is by no means the only popular charting/plotting library in Python, feel free to explore others such as Plotly, Seaborn, and ggplot.\n",
    "\n",
    "Like Pandas, we'll see some basic features of `matplotlib` here, but the library is expansive. \n",
    "\n",
    "https://matplotlib.org/3.2.1/contents.html"
   ]
  },
  {
   "cell_type": "code",
   "execution_count": 1,
   "metadata": {},
   "outputs": [
    {
     "data": {
      "text/html": [
       "<div>\n",
       "<style scoped>\n",
       "    .dataframe tbody tr th:only-of-type {\n",
       "        vertical-align: middle;\n",
       "    }\n",
       "\n",
       "    .dataframe tbody tr th {\n",
       "        vertical-align: top;\n",
       "    }\n",
       "\n",
       "    .dataframe thead th {\n",
       "        text-align: right;\n",
       "    }\n",
       "</style>\n",
       "<table border=\"1\" class=\"dataframe\">\n",
       "  <thead>\n",
       "    <tr style=\"text-align: right;\">\n",
       "      <th></th>\n",
       "      <th>Unnamed: 0</th>\n",
       "      <th>BOROUGH</th>\n",
       "      <th>NEIGHBORHOOD</th>\n",
       "      <th>BUILDING CLASS CATEGORY</th>\n",
       "      <th>TAX CLASS AT PRESENT</th>\n",
       "      <th>BLOCK</th>\n",
       "      <th>LOT</th>\n",
       "      <th>EASE-MENT</th>\n",
       "      <th>BUILDING CLASS AT PRESENT</th>\n",
       "      <th>ADDRESS</th>\n",
       "      <th>...</th>\n",
       "      <th>RESIDENTIAL UNITS</th>\n",
       "      <th>COMMERCIAL UNITS</th>\n",
       "      <th>TOTAL UNITS</th>\n",
       "      <th>LAND SQUARE FEET</th>\n",
       "      <th>GROSS SQUARE FEET</th>\n",
       "      <th>YEAR BUILT</th>\n",
       "      <th>TAX CLASS AT TIME OF SALE</th>\n",
       "      <th>BUILDING CLASS AT TIME OF SALE</th>\n",
       "      <th>SALE PRICE</th>\n",
       "      <th>SALE DATE</th>\n",
       "    </tr>\n",
       "  </thead>\n",
       "  <tbody>\n",
       "    <tr>\n",
       "      <th>0</th>\n",
       "      <td>4</td>\n",
       "      <td>1</td>\n",
       "      <td>ALPHABET CITY</td>\n",
       "      <td>07 RENTALS - WALKUP APARTMENTS</td>\n",
       "      <td>2A</td>\n",
       "      <td>392</td>\n",
       "      <td>6</td>\n",
       "      <td></td>\n",
       "      <td>C2</td>\n",
       "      <td>153 AVENUE B</td>\n",
       "      <td>...</td>\n",
       "      <td>5</td>\n",
       "      <td>0</td>\n",
       "      <td>5</td>\n",
       "      <td>1633</td>\n",
       "      <td>6440</td>\n",
       "      <td>1900</td>\n",
       "      <td>2</td>\n",
       "      <td>C2</td>\n",
       "      <td>6625000</td>\n",
       "      <td>2017-07-19 00:00:00</td>\n",
       "    </tr>\n",
       "    <tr>\n",
       "      <th>1</th>\n",
       "      <td>5</td>\n",
       "      <td>1</td>\n",
       "      <td>ALPHABET CITY</td>\n",
       "      <td>07 RENTALS - WALKUP APARTMENTS</td>\n",
       "      <td>2</td>\n",
       "      <td>399</td>\n",
       "      <td>26</td>\n",
       "      <td></td>\n",
       "      <td>C7</td>\n",
       "      <td>234 EAST 4TH   STREET</td>\n",
       "      <td>...</td>\n",
       "      <td>28</td>\n",
       "      <td>3</td>\n",
       "      <td>31</td>\n",
       "      <td>4616</td>\n",
       "      <td>18690</td>\n",
       "      <td>1900</td>\n",
       "      <td>2</td>\n",
       "      <td>C7</td>\n",
       "      <td>-</td>\n",
       "      <td>2016-12-14 00:00:00</td>\n",
       "    </tr>\n",
       "    <tr>\n",
       "      <th>2</th>\n",
       "      <td>6</td>\n",
       "      <td>1</td>\n",
       "      <td>ALPHABET CITY</td>\n",
       "      <td>07 RENTALS - WALKUP APARTMENTS</td>\n",
       "      <td>2</td>\n",
       "      <td>399</td>\n",
       "      <td>39</td>\n",
       "      <td></td>\n",
       "      <td>C7</td>\n",
       "      <td>197 EAST 3RD   STREET</td>\n",
       "      <td>...</td>\n",
       "      <td>16</td>\n",
       "      <td>1</td>\n",
       "      <td>17</td>\n",
       "      <td>2212</td>\n",
       "      <td>7803</td>\n",
       "      <td>1900</td>\n",
       "      <td>2</td>\n",
       "      <td>C7</td>\n",
       "      <td>-</td>\n",
       "      <td>2016-12-09 00:00:00</td>\n",
       "    </tr>\n",
       "    <tr>\n",
       "      <th>3</th>\n",
       "      <td>7</td>\n",
       "      <td>1</td>\n",
       "      <td>ALPHABET CITY</td>\n",
       "      <td>07 RENTALS - WALKUP APARTMENTS</td>\n",
       "      <td>2B</td>\n",
       "      <td>402</td>\n",
       "      <td>21</td>\n",
       "      <td></td>\n",
       "      <td>C4</td>\n",
       "      <td>154 EAST 7TH STREET</td>\n",
       "      <td>...</td>\n",
       "      <td>10</td>\n",
       "      <td>0</td>\n",
       "      <td>10</td>\n",
       "      <td>2272</td>\n",
       "      <td>6794</td>\n",
       "      <td>1913</td>\n",
       "      <td>2</td>\n",
       "      <td>C4</td>\n",
       "      <td>3936272</td>\n",
       "      <td>2016-09-23 00:00:00</td>\n",
       "    </tr>\n",
       "    <tr>\n",
       "      <th>4</th>\n",
       "      <td>8</td>\n",
       "      <td>1</td>\n",
       "      <td>ALPHABET CITY</td>\n",
       "      <td>07 RENTALS - WALKUP APARTMENTS</td>\n",
       "      <td>2A</td>\n",
       "      <td>404</td>\n",
       "      <td>55</td>\n",
       "      <td></td>\n",
       "      <td>C2</td>\n",
       "      <td>301 EAST 10TH   STREET</td>\n",
       "      <td>...</td>\n",
       "      <td>6</td>\n",
       "      <td>0</td>\n",
       "      <td>6</td>\n",
       "      <td>2369</td>\n",
       "      <td>4615</td>\n",
       "      <td>1900</td>\n",
       "      <td>2</td>\n",
       "      <td>C2</td>\n",
       "      <td>8000000</td>\n",
       "      <td>2016-11-17 00:00:00</td>\n",
       "    </tr>\n",
       "    <tr>\n",
       "      <th>5</th>\n",
       "      <td>9</td>\n",
       "      <td>1</td>\n",
       "      <td>ALPHABET CITY</td>\n",
       "      <td>07 RENTALS - WALKUP APARTMENTS</td>\n",
       "      <td>2</td>\n",
       "      <td>405</td>\n",
       "      <td>16</td>\n",
       "      <td></td>\n",
       "      <td>C4</td>\n",
       "      <td>516 EAST 12TH   STREET</td>\n",
       "      <td>...</td>\n",
       "      <td>20</td>\n",
       "      <td>0</td>\n",
       "      <td>20</td>\n",
       "      <td>2581</td>\n",
       "      <td>9730</td>\n",
       "      <td>1900</td>\n",
       "      <td>2</td>\n",
       "      <td>C4</td>\n",
       "      <td>-</td>\n",
       "      <td>2017-07-20 00:00:00</td>\n",
       "    </tr>\n",
       "    <tr>\n",
       "      <th>6</th>\n",
       "      <td>10</td>\n",
       "      <td>1</td>\n",
       "      <td>ALPHABET CITY</td>\n",
       "      <td>07 RENTALS - WALKUP APARTMENTS</td>\n",
       "      <td>2B</td>\n",
       "      <td>406</td>\n",
       "      <td>32</td>\n",
       "      <td></td>\n",
       "      <td>C4</td>\n",
       "      <td>210 AVENUE B</td>\n",
       "      <td>...</td>\n",
       "      <td>8</td>\n",
       "      <td>0</td>\n",
       "      <td>8</td>\n",
       "      <td>1750</td>\n",
       "      <td>4226</td>\n",
       "      <td>1920</td>\n",
       "      <td>2</td>\n",
       "      <td>C4</td>\n",
       "      <td>3192840</td>\n",
       "      <td>2016-09-23 00:00:00</td>\n",
       "    </tr>\n",
       "    <tr>\n",
       "      <th>7</th>\n",
       "      <td>11</td>\n",
       "      <td>1</td>\n",
       "      <td>ALPHABET CITY</td>\n",
       "      <td>07 RENTALS - WALKUP APARTMENTS</td>\n",
       "      <td>2</td>\n",
       "      <td>407</td>\n",
       "      <td>18</td>\n",
       "      <td></td>\n",
       "      <td>C7</td>\n",
       "      <td>520 EAST 14TH   STREET</td>\n",
       "      <td>...</td>\n",
       "      <td>44</td>\n",
       "      <td>2</td>\n",
       "      <td>46</td>\n",
       "      <td>5163</td>\n",
       "      <td>21007</td>\n",
       "      <td>1900</td>\n",
       "      <td>2</td>\n",
       "      <td>C7</td>\n",
       "      <td>-</td>\n",
       "      <td>2017-07-20 00:00:00</td>\n",
       "    </tr>\n",
       "    <tr>\n",
       "      <th>8</th>\n",
       "      <td>12</td>\n",
       "      <td>1</td>\n",
       "      <td>ALPHABET CITY</td>\n",
       "      <td>08 RENTALS - ELEVATOR APARTMENTS</td>\n",
       "      <td>2</td>\n",
       "      <td>379</td>\n",
       "      <td>34</td>\n",
       "      <td></td>\n",
       "      <td>D5</td>\n",
       "      <td>141 AVENUE D</td>\n",
       "      <td>...</td>\n",
       "      <td>15</td>\n",
       "      <td>0</td>\n",
       "      <td>15</td>\n",
       "      <td>1534</td>\n",
       "      <td>9198</td>\n",
       "      <td>1920</td>\n",
       "      <td>2</td>\n",
       "      <td>D5</td>\n",
       "      <td>-</td>\n",
       "      <td>2017-06-20 00:00:00</td>\n",
       "    </tr>\n",
       "    <tr>\n",
       "      <th>9</th>\n",
       "      <td>13</td>\n",
       "      <td>1</td>\n",
       "      <td>ALPHABET CITY</td>\n",
       "      <td>08 RENTALS - ELEVATOR APARTMENTS</td>\n",
       "      <td>2</td>\n",
       "      <td>387</td>\n",
       "      <td>153</td>\n",
       "      <td></td>\n",
       "      <td>D9</td>\n",
       "      <td>629 EAST 5TH STREET</td>\n",
       "      <td>...</td>\n",
       "      <td>24</td>\n",
       "      <td>0</td>\n",
       "      <td>24</td>\n",
       "      <td>4489</td>\n",
       "      <td>18523</td>\n",
       "      <td>1920</td>\n",
       "      <td>2</td>\n",
       "      <td>D9</td>\n",
       "      <td>16232000</td>\n",
       "      <td>2016-11-07 00:00:00</td>\n",
       "    </tr>\n",
       "    <tr>\n",
       "      <th>10</th>\n",
       "      <td>14</td>\n",
       "      <td>1</td>\n",
       "      <td>ALPHABET CITY</td>\n",
       "      <td>08 RENTALS - ELEVATOR APARTMENTS</td>\n",
       "      <td>2</td>\n",
       "      <td>394</td>\n",
       "      <td>44</td>\n",
       "      <td></td>\n",
       "      <td>D7</td>\n",
       "      <td>181 AVENUE C</td>\n",
       "      <td>...</td>\n",
       "      <td>30</td>\n",
       "      <td>4</td>\n",
       "      <td>34</td>\n",
       "      <td>4295</td>\n",
       "      <td>21328</td>\n",
       "      <td>1910</td>\n",
       "      <td>2</td>\n",
       "      <td>D7</td>\n",
       "      <td>-</td>\n",
       "      <td>2017-07-20 00:00:00</td>\n",
       "    </tr>\n",
       "    <tr>\n",
       "      <th>11</th>\n",
       "      <td>15</td>\n",
       "      <td>1</td>\n",
       "      <td>ALPHABET CITY</td>\n",
       "      <td>08 RENTALS - ELEVATOR APARTMENTS</td>\n",
       "      <td>2B</td>\n",
       "      <td>400</td>\n",
       "      <td>21</td>\n",
       "      <td></td>\n",
       "      <td>D1</td>\n",
       "      <td>530-532 EAST 5TH STREET</td>\n",
       "      <td>...</td>\n",
       "      <td>10</td>\n",
       "      <td>0</td>\n",
       "      <td>10</td>\n",
       "      <td>3717</td>\n",
       "      <td>12350</td>\n",
       "      <td>2009</td>\n",
       "      <td>2</td>\n",
       "      <td>D1</td>\n",
       "      <td>10350000</td>\n",
       "      <td>2016-10-17 00:00:00</td>\n",
       "    </tr>\n",
       "    <tr>\n",
       "      <th>12</th>\n",
       "      <td>16</td>\n",
       "      <td>1</td>\n",
       "      <td>ALPHABET CITY</td>\n",
       "      <td>09 COOPS - WALKUP APARTMENTS</td>\n",
       "      <td>2</td>\n",
       "      <td>373</td>\n",
       "      <td>40</td>\n",
       "      <td></td>\n",
       "      <td>C6</td>\n",
       "      <td>327 EAST 3 STREET, 1C</td>\n",
       "      <td>...</td>\n",
       "      <td>0</td>\n",
       "      <td>0</td>\n",
       "      <td>0</td>\n",
       "      <td>-</td>\n",
       "      <td>-</td>\n",
       "      <td>1920</td>\n",
       "      <td>2</td>\n",
       "      <td>C6</td>\n",
       "      <td>1</td>\n",
       "      <td>2016-09-06 00:00:00</td>\n",
       "    </tr>\n",
       "    <tr>\n",
       "      <th>13</th>\n",
       "      <td>17</td>\n",
       "      <td>1</td>\n",
       "      <td>ALPHABET CITY</td>\n",
       "      <td>09 COOPS - WALKUP APARTMENTS</td>\n",
       "      <td>2</td>\n",
       "      <td>373</td>\n",
       "      <td>40</td>\n",
       "      <td></td>\n",
       "      <td>C6</td>\n",
       "      <td>327 EAST 3 STREET, 1C</td>\n",
       "      <td>...</td>\n",
       "      <td>0</td>\n",
       "      <td>0</td>\n",
       "      <td>0</td>\n",
       "      <td>-</td>\n",
       "      <td>-</td>\n",
       "      <td>1920</td>\n",
       "      <td>2</td>\n",
       "      <td>C6</td>\n",
       "      <td>499000</td>\n",
       "      <td>2017-03-10 00:00:00</td>\n",
       "    </tr>\n",
       "    <tr>\n",
       "      <th>14</th>\n",
       "      <td>18</td>\n",
       "      <td>1</td>\n",
       "      <td>ALPHABET CITY</td>\n",
       "      <td>09 COOPS - WALKUP APARTMENTS</td>\n",
       "      <td>2</td>\n",
       "      <td>373</td>\n",
       "      <td>40</td>\n",
       "      <td></td>\n",
       "      <td>C6</td>\n",
       "      <td>327 EAST 3 STREET, 3A</td>\n",
       "      <td>...</td>\n",
       "      <td>0</td>\n",
       "      <td>0</td>\n",
       "      <td>0</td>\n",
       "      <td>-</td>\n",
       "      <td>-</td>\n",
       "      <td>1920</td>\n",
       "      <td>2</td>\n",
       "      <td>C6</td>\n",
       "      <td>10</td>\n",
       "      <td>2017-04-28 00:00:00</td>\n",
       "    </tr>\n",
       "    <tr>\n",
       "      <th>15</th>\n",
       "      <td>19</td>\n",
       "      <td>1</td>\n",
       "      <td>ALPHABET CITY</td>\n",
       "      <td>09 COOPS - WALKUP APARTMENTS</td>\n",
       "      <td>2</td>\n",
       "      <td>373</td>\n",
       "      <td>40</td>\n",
       "      <td></td>\n",
       "      <td>C6</td>\n",
       "      <td>327 EAST 3RD STREET, 5A</td>\n",
       "      <td>...</td>\n",
       "      <td>0</td>\n",
       "      <td>0</td>\n",
       "      <td>0</td>\n",
       "      <td>-</td>\n",
       "      <td>-</td>\n",
       "      <td>1920</td>\n",
       "      <td>2</td>\n",
       "      <td>C6</td>\n",
       "      <td>529500</td>\n",
       "      <td>2017-06-09 00:00:00</td>\n",
       "    </tr>\n",
       "    <tr>\n",
       "      <th>16</th>\n",
       "      <td>20</td>\n",
       "      <td>1</td>\n",
       "      <td>ALPHABET CITY</td>\n",
       "      <td>09 COOPS - WALKUP APARTMENTS</td>\n",
       "      <td>2</td>\n",
       "      <td>373</td>\n",
       "      <td>40</td>\n",
       "      <td></td>\n",
       "      <td>C6</td>\n",
       "      <td>327 EAST 3 STREET, 2E</td>\n",
       "      <td>...</td>\n",
       "      <td>0</td>\n",
       "      <td>0</td>\n",
       "      <td>0</td>\n",
       "      <td>-</td>\n",
       "      <td>-</td>\n",
       "      <td>1920</td>\n",
       "      <td>2</td>\n",
       "      <td>C6</td>\n",
       "      <td>423000</td>\n",
       "      <td>2017-07-14 00:00:00</td>\n",
       "    </tr>\n",
       "    <tr>\n",
       "      <th>17</th>\n",
       "      <td>21</td>\n",
       "      <td>1</td>\n",
       "      <td>ALPHABET CITY</td>\n",
       "      <td>09 COOPS - WALKUP APARTMENTS</td>\n",
       "      <td>2</td>\n",
       "      <td>373</td>\n",
       "      <td>46</td>\n",
       "      <td></td>\n",
       "      <td>C6</td>\n",
       "      <td>317 EAST 3RD STREET, 12</td>\n",
       "      <td>...</td>\n",
       "      <td>0</td>\n",
       "      <td>0</td>\n",
       "      <td>0</td>\n",
       "      <td>-</td>\n",
       "      <td>-</td>\n",
       "      <td>1925</td>\n",
       "      <td>2</td>\n",
       "      <td>C6</td>\n",
       "      <td>501000</td>\n",
       "      <td>2017-03-16 00:00:00</td>\n",
       "    </tr>\n",
       "    <tr>\n",
       "      <th>18</th>\n",
       "      <td>22</td>\n",
       "      <td>1</td>\n",
       "      <td>ALPHABET CITY</td>\n",
       "      <td>09 COOPS - WALKUP APARTMENTS</td>\n",
       "      <td>2</td>\n",
       "      <td>373</td>\n",
       "      <td>49</td>\n",
       "      <td></td>\n",
       "      <td>C6</td>\n",
       "      <td>311 EAST 3RD STREET, 17</td>\n",
       "      <td>...</td>\n",
       "      <td>0</td>\n",
       "      <td>0</td>\n",
       "      <td>0</td>\n",
       "      <td>-</td>\n",
       "      <td>-</td>\n",
       "      <td>1920</td>\n",
       "      <td>2</td>\n",
       "      <td>C6</td>\n",
       "      <td>450000</td>\n",
       "      <td>2016-09-01 00:00:00</td>\n",
       "    </tr>\n",
       "    <tr>\n",
       "      <th>19</th>\n",
       "      <td>23</td>\n",
       "      <td>1</td>\n",
       "      <td>ALPHABET CITY</td>\n",
       "      <td>09 COOPS - WALKUP APARTMENTS</td>\n",
       "      <td>2</td>\n",
       "      <td>373</td>\n",
       "      <td>49</td>\n",
       "      <td></td>\n",
       "      <td>C6</td>\n",
       "      <td>311 EAST 3RD, 22</td>\n",
       "      <td>...</td>\n",
       "      <td>0</td>\n",
       "      <td>0</td>\n",
       "      <td>0</td>\n",
       "      <td>-</td>\n",
       "      <td>-</td>\n",
       "      <td>1920</td>\n",
       "      <td>2</td>\n",
       "      <td>C6</td>\n",
       "      <td>510000</td>\n",
       "      <td>2017-08-17 00:00:00</td>\n",
       "    </tr>\n",
       "  </tbody>\n",
       "</table>\n",
       "<p>20 rows × 22 columns</p>\n",
       "</div>"
      ],
      "text/plain": [
       "    Unnamed: 0  BOROUGH   NEIGHBORHOOD  \\\n",
       "0            4        1  ALPHABET CITY   \n",
       "1            5        1  ALPHABET CITY   \n",
       "2            6        1  ALPHABET CITY   \n",
       "3            7        1  ALPHABET CITY   \n",
       "4            8        1  ALPHABET CITY   \n",
       "5            9        1  ALPHABET CITY   \n",
       "6           10        1  ALPHABET CITY   \n",
       "7           11        1  ALPHABET CITY   \n",
       "8           12        1  ALPHABET CITY   \n",
       "9           13        1  ALPHABET CITY   \n",
       "10          14        1  ALPHABET CITY   \n",
       "11          15        1  ALPHABET CITY   \n",
       "12          16        1  ALPHABET CITY   \n",
       "13          17        1  ALPHABET CITY   \n",
       "14          18        1  ALPHABET CITY   \n",
       "15          19        1  ALPHABET CITY   \n",
       "16          20        1  ALPHABET CITY   \n",
       "17          21        1  ALPHABET CITY   \n",
       "18          22        1  ALPHABET CITY   \n",
       "19          23        1  ALPHABET CITY   \n",
       "\n",
       "                        BUILDING CLASS CATEGORY TAX CLASS AT PRESENT  BLOCK  \\\n",
       "0   07 RENTALS - WALKUP APARTMENTS                                2A    392   \n",
       "1   07 RENTALS - WALKUP APARTMENTS                                 2    399   \n",
       "2   07 RENTALS - WALKUP APARTMENTS                                 2    399   \n",
       "3   07 RENTALS - WALKUP APARTMENTS                                2B    402   \n",
       "4   07 RENTALS - WALKUP APARTMENTS                                2A    404   \n",
       "5   07 RENTALS - WALKUP APARTMENTS                                 2    405   \n",
       "6   07 RENTALS - WALKUP APARTMENTS                                2B    406   \n",
       "7   07 RENTALS - WALKUP APARTMENTS                                 2    407   \n",
       "8   08 RENTALS - ELEVATOR APARTMENTS                               2    379   \n",
       "9   08 RENTALS - ELEVATOR APARTMENTS                               2    387   \n",
       "10  08 RENTALS - ELEVATOR APARTMENTS                               2    394   \n",
       "11  08 RENTALS - ELEVATOR APARTMENTS                              2B    400   \n",
       "12  09 COOPS - WALKUP APARTMENTS                                   2    373   \n",
       "13  09 COOPS - WALKUP APARTMENTS                                   2    373   \n",
       "14  09 COOPS - WALKUP APARTMENTS                                   2    373   \n",
       "15  09 COOPS - WALKUP APARTMENTS                                   2    373   \n",
       "16  09 COOPS - WALKUP APARTMENTS                                   2    373   \n",
       "17  09 COOPS - WALKUP APARTMENTS                                   2    373   \n",
       "18  09 COOPS - WALKUP APARTMENTS                                   2    373   \n",
       "19  09 COOPS - WALKUP APARTMENTS                                   2    373   \n",
       "\n",
       "    LOT EASE-MENT BUILDING CLASS AT PRESENT                  ADDRESS  ...  \\\n",
       "0     6                                  C2             153 AVENUE B  ...   \n",
       "1    26                                  C7    234 EAST 4TH   STREET  ...   \n",
       "2    39                                  C7    197 EAST 3RD   STREET  ...   \n",
       "3    21                                  C4      154 EAST 7TH STREET  ...   \n",
       "4    55                                  C2   301 EAST 10TH   STREET  ...   \n",
       "5    16                                  C4   516 EAST 12TH   STREET  ...   \n",
       "6    32                                  C4             210 AVENUE B  ...   \n",
       "7    18                                  C7   520 EAST 14TH   STREET  ...   \n",
       "8    34                                  D5             141 AVENUE D  ...   \n",
       "9   153                                  D9      629 EAST 5TH STREET  ...   \n",
       "10   44                                  D7             181 AVENUE C  ...   \n",
       "11   21                                  D1  530-532 EAST 5TH STREET  ...   \n",
       "12   40                                  C6    327 EAST 3 STREET, 1C  ...   \n",
       "13   40                                  C6    327 EAST 3 STREET, 1C  ...   \n",
       "14   40                                  C6    327 EAST 3 STREET, 3A  ...   \n",
       "15   40                                  C6  327 EAST 3RD STREET, 5A  ...   \n",
       "16   40                                  C6    327 EAST 3 STREET, 2E  ...   \n",
       "17   46                                  C6  317 EAST 3RD STREET, 12  ...   \n",
       "18   49                                  C6  311 EAST 3RD STREET, 17  ...   \n",
       "19   49                                  C6         311 EAST 3RD, 22  ...   \n",
       "\n",
       "   RESIDENTIAL UNITS  COMMERCIAL UNITS  TOTAL UNITS  LAND SQUARE FEET  \\\n",
       "0                  5                 0            5              1633   \n",
       "1                 28                 3           31              4616   \n",
       "2                 16                 1           17              2212   \n",
       "3                 10                 0           10              2272   \n",
       "4                  6                 0            6              2369   \n",
       "5                 20                 0           20              2581   \n",
       "6                  8                 0            8              1750   \n",
       "7                 44                 2           46              5163   \n",
       "8                 15                 0           15              1534   \n",
       "9                 24                 0           24              4489   \n",
       "10                30                 4           34              4295   \n",
       "11                10                 0           10              3717   \n",
       "12                 0                 0            0               -     \n",
       "13                 0                 0            0               -     \n",
       "14                 0                 0            0               -     \n",
       "15                 0                 0            0               -     \n",
       "16                 0                 0            0               -     \n",
       "17                 0                 0            0               -     \n",
       "18                 0                 0            0               -     \n",
       "19                 0                 0            0               -     \n",
       "\n",
       "    GROSS SQUARE FEET YEAR BUILT TAX CLASS AT TIME OF SALE  \\\n",
       "0                6440       1900                         2   \n",
       "1               18690       1900                         2   \n",
       "2                7803       1900                         2   \n",
       "3                6794       1913                         2   \n",
       "4                4615       1900                         2   \n",
       "5                9730       1900                         2   \n",
       "6                4226       1920                         2   \n",
       "7               21007       1900                         2   \n",
       "8                9198       1920                         2   \n",
       "9               18523       1920                         2   \n",
       "10              21328       1910                         2   \n",
       "11              12350       2009                         2   \n",
       "12                -         1920                         2   \n",
       "13                -         1920                         2   \n",
       "14                -         1920                         2   \n",
       "15                -         1920                         2   \n",
       "16                -         1920                         2   \n",
       "17                -         1925                         2   \n",
       "18                -         1920                         2   \n",
       "19                -         1920                         2   \n",
       "\n",
       "    BUILDING CLASS AT TIME OF SALE  SALE PRICE            SALE DATE  \n",
       "0                               C2     6625000  2017-07-19 00:00:00  \n",
       "1                               C7         -    2016-12-14 00:00:00  \n",
       "2                               C7         -    2016-12-09 00:00:00  \n",
       "3                               C4     3936272  2016-09-23 00:00:00  \n",
       "4                               C2     8000000  2016-11-17 00:00:00  \n",
       "5                               C4         -    2017-07-20 00:00:00  \n",
       "6                               C4     3192840  2016-09-23 00:00:00  \n",
       "7                               C7         -    2017-07-20 00:00:00  \n",
       "8                               D5         -    2017-06-20 00:00:00  \n",
       "9                               D9    16232000  2016-11-07 00:00:00  \n",
       "10                              D7         -    2017-07-20 00:00:00  \n",
       "11                              D1    10350000  2016-10-17 00:00:00  \n",
       "12                              C6           1  2016-09-06 00:00:00  \n",
       "13                              C6      499000  2017-03-10 00:00:00  \n",
       "14                              C6          10  2017-04-28 00:00:00  \n",
       "15                              C6      529500  2017-06-09 00:00:00  \n",
       "16                              C6      423000  2017-07-14 00:00:00  \n",
       "17                              C6      501000  2017-03-16 00:00:00  \n",
       "18                              C6      450000  2016-09-01 00:00:00  \n",
       "19                              C6      510000  2017-08-17 00:00:00  \n",
       "\n",
       "[20 rows x 22 columns]"
      ]
     },
     "execution_count": 1,
     "metadata": {},
     "output_type": "execute_result"
    }
   ],
   "source": [
    "# Conventionally, pd and plt are commonly chosen as names to import pandas and pyplot.\n",
    "# This is not a requirement, but it is very common.\n",
    "import pandas as pd\n",
    "import matplotlib.pyplot as plt\n",
    "import numpy as np\n",
    "\n",
    "\n",
    "# One of the things we love about pandas is that it's easy to load CSV data\n",
    "# into a \"data frame\" which is the \n",
    "path_to_ny_sales = '../data/nyc-property/nyc-rolling-sales.csv'\n",
    "sales_df = pd.read_csv(path_to_ny_sales)\n",
    "\n",
    "# And, it makes it easy to take a look at the first n items:\n",
    "sales_df.head(20)"
   ]
  },
  {
   "cell_type": "code",
   "execution_count": 2,
   "metadata": {},
   "outputs": [
    {
     "data": {
      "text/html": [
       "<div>\n",
       "<style scoped>\n",
       "    .dataframe tbody tr th:only-of-type {\n",
       "        vertical-align: middle;\n",
       "    }\n",
       "\n",
       "    .dataframe tbody tr th {\n",
       "        vertical-align: top;\n",
       "    }\n",
       "\n",
       "    .dataframe thead th {\n",
       "        text-align: right;\n",
       "    }\n",
       "</style>\n",
       "<table border=\"1\" class=\"dataframe\">\n",
       "  <thead>\n",
       "    <tr style=\"text-align: right;\">\n",
       "      <th></th>\n",
       "      <th>Unnamed: 0</th>\n",
       "      <th>BOROUGH</th>\n",
       "      <th>BLOCK</th>\n",
       "      <th>LOT</th>\n",
       "      <th>ZIP CODE</th>\n",
       "      <th>RESIDENTIAL UNITS</th>\n",
       "      <th>COMMERCIAL UNITS</th>\n",
       "      <th>TOTAL UNITS</th>\n",
       "      <th>YEAR BUILT</th>\n",
       "      <th>TAX CLASS AT TIME OF SALE</th>\n",
       "    </tr>\n",
       "  </thead>\n",
       "  <tbody>\n",
       "    <tr>\n",
       "      <th>count</th>\n",
       "      <td>84548.000000</td>\n",
       "      <td>84548.000000</td>\n",
       "      <td>84548.000000</td>\n",
       "      <td>84548.000000</td>\n",
       "      <td>84548.000000</td>\n",
       "      <td>84548.000000</td>\n",
       "      <td>84548.000000</td>\n",
       "      <td>84548.000000</td>\n",
       "      <td>84548.000000</td>\n",
       "      <td>84548.000000</td>\n",
       "    </tr>\n",
       "    <tr>\n",
       "      <th>mean</th>\n",
       "      <td>10344.359878</td>\n",
       "      <td>2.998758</td>\n",
       "      <td>4237.218976</td>\n",
       "      <td>376.224015</td>\n",
       "      <td>10731.991614</td>\n",
       "      <td>2.025264</td>\n",
       "      <td>0.193559</td>\n",
       "      <td>2.249184</td>\n",
       "      <td>1789.322976</td>\n",
       "      <td>1.657485</td>\n",
       "    </tr>\n",
       "    <tr>\n",
       "      <th>std</th>\n",
       "      <td>7151.779436</td>\n",
       "      <td>1.289790</td>\n",
       "      <td>3568.263407</td>\n",
       "      <td>658.136814</td>\n",
       "      <td>1290.879147</td>\n",
       "      <td>16.721037</td>\n",
       "      <td>8.713183</td>\n",
       "      <td>18.972584</td>\n",
       "      <td>537.344993</td>\n",
       "      <td>0.819341</td>\n",
       "    </tr>\n",
       "    <tr>\n",
       "      <th>min</th>\n",
       "      <td>4.000000</td>\n",
       "      <td>1.000000</td>\n",
       "      <td>1.000000</td>\n",
       "      <td>1.000000</td>\n",
       "      <td>0.000000</td>\n",
       "      <td>0.000000</td>\n",
       "      <td>0.000000</td>\n",
       "      <td>0.000000</td>\n",
       "      <td>0.000000</td>\n",
       "      <td>1.000000</td>\n",
       "    </tr>\n",
       "    <tr>\n",
       "      <th>25%</th>\n",
       "      <td>4231.000000</td>\n",
       "      <td>2.000000</td>\n",
       "      <td>1322.750000</td>\n",
       "      <td>22.000000</td>\n",
       "      <td>10305.000000</td>\n",
       "      <td>0.000000</td>\n",
       "      <td>0.000000</td>\n",
       "      <td>1.000000</td>\n",
       "      <td>1920.000000</td>\n",
       "      <td>1.000000</td>\n",
       "    </tr>\n",
       "    <tr>\n",
       "      <th>50%</th>\n",
       "      <td>8942.000000</td>\n",
       "      <td>3.000000</td>\n",
       "      <td>3311.000000</td>\n",
       "      <td>50.000000</td>\n",
       "      <td>11209.000000</td>\n",
       "      <td>1.000000</td>\n",
       "      <td>0.000000</td>\n",
       "      <td>1.000000</td>\n",
       "      <td>1940.000000</td>\n",
       "      <td>2.000000</td>\n",
       "    </tr>\n",
       "    <tr>\n",
       "      <th>75%</th>\n",
       "      <td>15987.250000</td>\n",
       "      <td>4.000000</td>\n",
       "      <td>6281.000000</td>\n",
       "      <td>1001.000000</td>\n",
       "      <td>11357.000000</td>\n",
       "      <td>2.000000</td>\n",
       "      <td>0.000000</td>\n",
       "      <td>2.000000</td>\n",
       "      <td>1965.000000</td>\n",
       "      <td>2.000000</td>\n",
       "    </tr>\n",
       "    <tr>\n",
       "      <th>max</th>\n",
       "      <td>26739.000000</td>\n",
       "      <td>5.000000</td>\n",
       "      <td>16322.000000</td>\n",
       "      <td>9106.000000</td>\n",
       "      <td>11694.000000</td>\n",
       "      <td>1844.000000</td>\n",
       "      <td>2261.000000</td>\n",
       "      <td>2261.000000</td>\n",
       "      <td>2017.000000</td>\n",
       "      <td>4.000000</td>\n",
       "    </tr>\n",
       "  </tbody>\n",
       "</table>\n",
       "</div>"
      ],
      "text/plain": [
       "         Unnamed: 0       BOROUGH         BLOCK           LOT      ZIP CODE  \\\n",
       "count  84548.000000  84548.000000  84548.000000  84548.000000  84548.000000   \n",
       "mean   10344.359878      2.998758   4237.218976    376.224015  10731.991614   \n",
       "std     7151.779436      1.289790   3568.263407    658.136814   1290.879147   \n",
       "min        4.000000      1.000000      1.000000      1.000000      0.000000   \n",
       "25%     4231.000000      2.000000   1322.750000     22.000000  10305.000000   \n",
       "50%     8942.000000      3.000000   3311.000000     50.000000  11209.000000   \n",
       "75%    15987.250000      4.000000   6281.000000   1001.000000  11357.000000   \n",
       "max    26739.000000      5.000000  16322.000000   9106.000000  11694.000000   \n",
       "\n",
       "       RESIDENTIAL UNITS  COMMERCIAL UNITS   TOTAL UNITS    YEAR BUILT  \\\n",
       "count       84548.000000      84548.000000  84548.000000  84548.000000   \n",
       "mean            2.025264          0.193559      2.249184   1789.322976   \n",
       "std            16.721037          8.713183     18.972584    537.344993   \n",
       "min             0.000000          0.000000      0.000000      0.000000   \n",
       "25%             0.000000          0.000000      1.000000   1920.000000   \n",
       "50%             1.000000          0.000000      1.000000   1940.000000   \n",
       "75%             2.000000          0.000000      2.000000   1965.000000   \n",
       "max          1844.000000       2261.000000   2261.000000   2017.000000   \n",
       "\n",
       "       TAX CLASS AT TIME OF SALE  \n",
       "count               84548.000000  \n",
       "mean                    1.657485  \n",
       "std                     0.819341  \n",
       "min                     1.000000  \n",
       "25%                     1.000000  \n",
       "50%                     2.000000  \n",
       "75%                     2.000000  \n",
       "max                     4.000000  "
      ]
     },
     "execution_count": 2,
     "metadata": {},
     "output_type": "execute_result"
    }
   ],
   "source": [
    "# We can also get a summary with bundles of useful information on the numerical fields\n",
    "sales_df.describe()"
   ]
  },
  {
   "cell_type": "code",
   "execution_count": 3,
   "metadata": {},
   "outputs": [
    {
     "name": "stdout",
     "output_type": "stream",
     "text": [
      "Unnamed: 0 int64\n",
      "BOROUGH int64\n",
      "NEIGHBORHOOD object\n",
      "BUILDING CLASS CATEGORY object\n",
      "TAX CLASS AT PRESENT object\n",
      "BLOCK int64\n",
      "LOT int64\n",
      "EASE-MENT object\n",
      "BUILDING CLASS AT PRESENT object\n",
      "ADDRESS object\n",
      "APARTMENT NUMBER object\n",
      "ZIP CODE int64\n",
      "RESIDENTIAL UNITS int64\n",
      "COMMERCIAL UNITS int64\n",
      "TOTAL UNITS int64\n",
      "LAND SQUARE FEET object\n",
      "GROSS SQUARE FEET object\n",
      "YEAR BUILT int64\n",
      "TAX CLASS AT TIME OF SALE int64\n",
      "BUILDING CLASS AT TIME OF SALE object\n",
      "SALE PRICE object\n",
      "SALE DATE object\n"
     ]
    }
   ],
   "source": [
    "# Hmm... we might not have expected \"zip code\" to have a mean value...\n",
    "# Lets look at all the columns in our dataframe along with their data types:\n",
    "# Sometimes we get some unexpected datatypes when loading data\n",
    "for column_name, data_type in zip(sales_df.columns, sales_df.dtypes):\n",
    "    print(column_name, data_type)"
   ]
  },
  {
   "cell_type": "code",
   "execution_count": 4,
   "metadata": {},
   "outputs": [
    {
     "name": "stdout",
     "output_type": "stream",
     "text": [
      "BOROUGH int64\n",
      "NEIGHBORHOOD object\n",
      "ADDRESS object\n",
      "APARTMENT NUMBER object\n",
      "ZIP CODE int64\n",
      "RESIDENTIAL UNITS int64\n",
      "COMMERCIAL UNITS int64\n",
      "TOTAL UNITS int64\n",
      "LAND SQUARE FEET object\n",
      "GROSS SQUARE FEET object\n",
      "YEAR BUILT int64\n",
      "SALE PRICE object\n",
      "SALE DATE object\n"
     ]
    }
   ],
   "source": [
    "# Lets make things simpler by dropping a few columns:\n",
    "columns_to_drop = [\n",
    "    'Unnamed: 0', # I still honestly do not know what this column even is.\n",
    "    'TAX CLASS AT PRESENT',\n",
    "    'BLOCK',\n",
    "    'LOT',\n",
    "    'EASE-MENT',\n",
    "    'BUILDING CLASS AT PRESENT',\n",
    "    'TAX CLASS AT TIME OF SALE',\n",
    "    'BUILDING CLASS AT TIME OF SALE',\n",
    "    'BUILDING CLASS CATEGORY'\n",
    "]\n",
    "\n",
    "# Note, the drop operation is NOT in place, we have to store the result back into the \n",
    "# variable if we want to replace the data. We could also make a NEW variable that has\n",
    "# the data dropped, and maintain the data frame with al the original data.\n",
    "sales_df = sales_df.drop(columns=columns_to_drop)\n",
    "\n",
    "# Lets look at the columns now...\n",
    "for column_name, data_type in zip(sales_df.columns, sales_df.dtypes):\n",
    "    print(column_name, data_type)"
   ]
  },
  {
   "cell_type": "code",
   "execution_count": 2,
   "metadata": {},
   "outputs": [
    {
     "data": {
      "text/plain": [
       "0        True\n",
       "1        True\n",
       "2        True\n",
       "3        True\n",
       "4        True\n",
       "         ... \n",
       "84543    True\n",
       "84544    True\n",
       "84545    True\n",
       "84546    True\n",
       "84547    True\n",
       "Name: SALE PRICE, Length: 84548, dtype: bool"
      ]
     },
     "execution_count": 2,
     "metadata": {},
     "output_type": "execute_result"
    }
   ],
   "source": [
    "# SALE PRICE should be a numeric, but it's an object. Lets see why:\n",
    "sales_df['SALE PRICE']\n",
    "sales_df['SALE PRICE'].notna() "
   ]
  },
  {
   "cell_type": "code",
   "execution_count": 6,
   "metadata": {},
   "outputs": [
    {
     "data": {
      "text/plain": [
       "0         6625000.0\n",
       "3         3936272.0\n",
       "4         8000000.0\n",
       "6         3192840.0\n",
       "9        16232000.0\n",
       "            ...    \n",
       "84543      450000.0\n",
       "84544      550000.0\n",
       "84545      460000.0\n",
       "84546    11693337.0\n",
       "84547       69300.0\n",
       "Name: SALE PRICE, Length: 69987, dtype: float64"
      ]
     },
     "execution_count": 6,
     "metadata": {},
     "output_type": "execute_result"
    }
   ],
   "source": [
    "# All those dashes are missing data... lets remove records that don't have a known sale price\n",
    "# note again, these operations are NOT in place.\n",
    "\n",
    "# First, coerce the column to a numeric type, and give unconvertable values \"NA\"\n",
    "sales_df['SALE PRICE'] = pd.to_numeric(sales_df['SALE PRICE'], errors='coerce')\n",
    "\n",
    "# Second, select the rows where the SALE PRICE is NOT NA\n",
    "sales_df = sales_df[ sales_df['SALE PRICE'].notna() ]\n",
    "\n",
    "sales_df['SALE PRICE']\n",
    "\n"
   ]
  },
  {
   "cell_type": "code",
   "execution_count": 7,
   "metadata": {},
   "outputs": [
    {
     "name": "stdout",
     "output_type": "stream",
     "text": [
      "BOROUGH int64\n",
      "NEIGHBORHOOD object\n",
      "ADDRESS object\n",
      "APARTMENT NUMBER object\n",
      "ZIP CODE int64\n",
      "RESIDENTIAL UNITS int64\n",
      "COMMERCIAL UNITS int64\n",
      "TOTAL UNITS int64\n",
      "LAND SQUARE FEET float64\n",
      "GROSS SQUARE FEET float64\n",
      "YEAR BUILT int64\n",
      "SALE PRICE float64\n",
      "SALE DATE object\n"
     ]
    },
    {
     "data": {
      "text/html": [
       "<div>\n",
       "<style scoped>\n",
       "    .dataframe tbody tr th:only-of-type {\n",
       "        vertical-align: middle;\n",
       "    }\n",
       "\n",
       "    .dataframe tbody tr th {\n",
       "        vertical-align: top;\n",
       "    }\n",
       "\n",
       "    .dataframe thead th {\n",
       "        text-align: right;\n",
       "    }\n",
       "</style>\n",
       "<table border=\"1\" class=\"dataframe\">\n",
       "  <thead>\n",
       "    <tr style=\"text-align: right;\">\n",
       "      <th></th>\n",
       "      <th>BOROUGH</th>\n",
       "      <th>ZIP CODE</th>\n",
       "      <th>RESIDENTIAL UNITS</th>\n",
       "      <th>COMMERCIAL UNITS</th>\n",
       "      <th>TOTAL UNITS</th>\n",
       "      <th>LAND SQUARE FEET</th>\n",
       "      <th>GROSS SQUARE FEET</th>\n",
       "      <th>YEAR BUILT</th>\n",
       "      <th>SALE PRICE</th>\n",
       "    </tr>\n",
       "  </thead>\n",
       "  <tbody>\n",
       "    <tr>\n",
       "      <th>count</th>\n",
       "      <td>48244.000000</td>\n",
       "      <td>48244.000000</td>\n",
       "      <td>48244.000000</td>\n",
       "      <td>48244.000000</td>\n",
       "      <td>48244.000000</td>\n",
       "      <td>4.824400e+04</td>\n",
       "      <td>4.824400e+04</td>\n",
       "      <td>48244.000000</td>\n",
       "      <td>4.824400e+04</td>\n",
       "    </tr>\n",
       "    <tr>\n",
       "      <th>mean</th>\n",
       "      <td>3.251741</td>\n",
       "      <td>10939.681328</td>\n",
       "      <td>2.566537</td>\n",
       "      <td>0.249171</td>\n",
       "      <td>2.834632</td>\n",
       "      <td>3.358117e+03</td>\n",
       "      <td>3.669753e+03</td>\n",
       "      <td>1827.765173</td>\n",
       "      <td>1.153281e+06</td>\n",
       "    </tr>\n",
       "    <tr>\n",
       "      <th>std</th>\n",
       "      <td>0.903136</td>\n",
       "      <td>1072.752086</td>\n",
       "      <td>17.465481</td>\n",
       "      <td>10.988072</td>\n",
       "      <td>20.750418</td>\n",
       "      <td>3.143590e+04</td>\n",
       "      <td>2.947491e+04</td>\n",
       "      <td>464.361153</td>\n",
       "      <td>1.340131e+07</td>\n",
       "    </tr>\n",
       "    <tr>\n",
       "      <th>min</th>\n",
       "      <td>1.000000</td>\n",
       "      <td>0.000000</td>\n",
       "      <td>0.000000</td>\n",
       "      <td>0.000000</td>\n",
       "      <td>0.000000</td>\n",
       "      <td>0.000000e+00</td>\n",
       "      <td>0.000000e+00</td>\n",
       "      <td>0.000000</td>\n",
       "      <td>0.000000e+00</td>\n",
       "    </tr>\n",
       "    <tr>\n",
       "      <th>25%</th>\n",
       "      <td>3.000000</td>\n",
       "      <td>10469.000000</td>\n",
       "      <td>1.000000</td>\n",
       "      <td>0.000000</td>\n",
       "      <td>1.000000</td>\n",
       "      <td>1.413000e+03</td>\n",
       "      <td>8.280000e+02</td>\n",
       "      <td>1920.000000</td>\n",
       "      <td>8.042000e+04</td>\n",
       "    </tr>\n",
       "    <tr>\n",
       "      <th>50%</th>\n",
       "      <td>3.000000</td>\n",
       "      <td>11217.000000</td>\n",
       "      <td>1.000000</td>\n",
       "      <td>0.000000</td>\n",
       "      <td>1.000000</td>\n",
       "      <td>2.140000e+03</td>\n",
       "      <td>1.620000e+03</td>\n",
       "      <td>1931.000000</td>\n",
       "      <td>4.800000e+05</td>\n",
       "    </tr>\n",
       "    <tr>\n",
       "      <th>75%</th>\n",
       "      <td>4.000000</td>\n",
       "      <td>11237.000000</td>\n",
       "      <td>2.000000</td>\n",
       "      <td>0.000000</td>\n",
       "      <td>2.000000</td>\n",
       "      <td>3.071000e+03</td>\n",
       "      <td>2.520000e+03</td>\n",
       "      <td>1961.000000</td>\n",
       "      <td>8.300000e+05</td>\n",
       "    </tr>\n",
       "    <tr>\n",
       "      <th>max</th>\n",
       "      <td>5.000000</td>\n",
       "      <td>11694.000000</td>\n",
       "      <td>1844.000000</td>\n",
       "      <td>2261.000000</td>\n",
       "      <td>2261.000000</td>\n",
       "      <td>4.228300e+06</td>\n",
       "      <td>3.750565e+06</td>\n",
       "      <td>2017.000000</td>\n",
       "      <td>2.210000e+09</td>\n",
       "    </tr>\n",
       "  </tbody>\n",
       "</table>\n",
       "</div>"
      ],
      "text/plain": [
       "            BOROUGH      ZIP CODE  RESIDENTIAL UNITS  COMMERCIAL UNITS  \\\n",
       "count  48244.000000  48244.000000       48244.000000      48244.000000   \n",
       "mean       3.251741  10939.681328           2.566537          0.249171   \n",
       "std        0.903136   1072.752086          17.465481         10.988072   \n",
       "min        1.000000      0.000000           0.000000          0.000000   \n",
       "25%        3.000000  10469.000000           1.000000          0.000000   \n",
       "50%        3.000000  11217.000000           1.000000          0.000000   \n",
       "75%        4.000000  11237.000000           2.000000          0.000000   \n",
       "max        5.000000  11694.000000        1844.000000       2261.000000   \n",
       "\n",
       "        TOTAL UNITS  LAND SQUARE FEET  GROSS SQUARE FEET    YEAR BUILT  \\\n",
       "count  48244.000000      4.824400e+04       4.824400e+04  48244.000000   \n",
       "mean       2.834632      3.358117e+03       3.669753e+03   1827.765173   \n",
       "std       20.750418      3.143590e+04       2.947491e+04    464.361153   \n",
       "min        0.000000      0.000000e+00       0.000000e+00      0.000000   \n",
       "25%        1.000000      1.413000e+03       8.280000e+02   1920.000000   \n",
       "50%        1.000000      2.140000e+03       1.620000e+03   1931.000000   \n",
       "75%        2.000000      3.071000e+03       2.520000e+03   1961.000000   \n",
       "max     2261.000000      4.228300e+06       3.750565e+06   2017.000000   \n",
       "\n",
       "         SALE PRICE  \n",
       "count  4.824400e+04  \n",
       "mean   1.153281e+06  \n",
       "std    1.340131e+07  \n",
       "min    0.000000e+00  \n",
       "25%    8.042000e+04  \n",
       "50%    4.800000e+05  \n",
       "75%    8.300000e+05  \n",
       "max    2.210000e+09  "
      ]
     },
     "execution_count": 7,
     "metadata": {},
     "output_type": "execute_result"
    }
   ],
   "source": [
    "# Wow, there were nearly 15k missing sales prices!\n",
    "# Now, lets convert the rest of the columns that ought to be numeric...\n",
    "columns_to_convert = [\n",
    "    'LAND SQUARE FEET',\n",
    "    'GROSS SQUARE FEET'\n",
    "]\n",
    "\n",
    "for column_name in columns_to_convert:\n",
    "    sales_df[column_name] = pd.to_numeric(sales_df[column_name], errors='coerce')\n",
    "    sales_df = sales_df[sales_df[column_name].notna()]\n",
    "    \n",
    "    \n",
    "# Lets look at the columns now...\n",
    "for column_name, data_type in zip(sales_df.columns, sales_df.dtypes):\n",
    "    print(column_name, data_type)\n",
    "    \n",
    "# Now, lets get the summary again:\n",
    "sales_df.describe()"
   ]
  },
  {
   "cell_type": "code",
   "execution_count": 8,
   "metadata": {},
   "outputs": [
    {
     "data": {
      "text/html": [
       "<div>\n",
       "<style scoped>\n",
       "    .dataframe tbody tr th:only-of-type {\n",
       "        vertical-align: middle;\n",
       "    }\n",
       "\n",
       "    .dataframe tbody tr th {\n",
       "        vertical-align: top;\n",
       "    }\n",
       "\n",
       "    .dataframe thead th {\n",
       "        text-align: right;\n",
       "    }\n",
       "</style>\n",
       "<table border=\"1\" class=\"dataframe\">\n",
       "  <thead>\n",
       "    <tr style=\"text-align: right;\">\n",
       "      <th></th>\n",
       "      <th>RESIDENTIAL UNITS</th>\n",
       "      <th>COMMERCIAL UNITS</th>\n",
       "      <th>TOTAL UNITS</th>\n",
       "      <th>LAND SQUARE FEET</th>\n",
       "      <th>GROSS SQUARE FEET</th>\n",
       "      <th>YEAR BUILT</th>\n",
       "      <th>SALE PRICE</th>\n",
       "    </tr>\n",
       "  </thead>\n",
       "  <tbody>\n",
       "    <tr>\n",
       "      <th>count</th>\n",
       "      <td>48244.000000</td>\n",
       "      <td>48244.000000</td>\n",
       "      <td>48244.000000</td>\n",
       "      <td>4.824400e+04</td>\n",
       "      <td>4.824400e+04</td>\n",
       "      <td>48244.000000</td>\n",
       "      <td>4.824400e+04</td>\n",
       "    </tr>\n",
       "    <tr>\n",
       "      <th>mean</th>\n",
       "      <td>2.566537</td>\n",
       "      <td>0.249171</td>\n",
       "      <td>2.834632</td>\n",
       "      <td>3.358117e+03</td>\n",
       "      <td>3.669753e+03</td>\n",
       "      <td>1827.765173</td>\n",
       "      <td>1.153281e+06</td>\n",
       "    </tr>\n",
       "    <tr>\n",
       "      <th>std</th>\n",
       "      <td>17.465481</td>\n",
       "      <td>10.988072</td>\n",
       "      <td>20.750418</td>\n",
       "      <td>3.143590e+04</td>\n",
       "      <td>2.947491e+04</td>\n",
       "      <td>464.361153</td>\n",
       "      <td>1.340131e+07</td>\n",
       "    </tr>\n",
       "    <tr>\n",
       "      <th>min</th>\n",
       "      <td>0.000000</td>\n",
       "      <td>0.000000</td>\n",
       "      <td>0.000000</td>\n",
       "      <td>0.000000e+00</td>\n",
       "      <td>0.000000e+00</td>\n",
       "      <td>0.000000</td>\n",
       "      <td>0.000000e+00</td>\n",
       "    </tr>\n",
       "    <tr>\n",
       "      <th>25%</th>\n",
       "      <td>1.000000</td>\n",
       "      <td>0.000000</td>\n",
       "      <td>1.000000</td>\n",
       "      <td>1.413000e+03</td>\n",
       "      <td>8.280000e+02</td>\n",
       "      <td>1920.000000</td>\n",
       "      <td>8.042000e+04</td>\n",
       "    </tr>\n",
       "    <tr>\n",
       "      <th>50%</th>\n",
       "      <td>1.000000</td>\n",
       "      <td>0.000000</td>\n",
       "      <td>1.000000</td>\n",
       "      <td>2.140000e+03</td>\n",
       "      <td>1.620000e+03</td>\n",
       "      <td>1931.000000</td>\n",
       "      <td>4.800000e+05</td>\n",
       "    </tr>\n",
       "    <tr>\n",
       "      <th>75%</th>\n",
       "      <td>2.000000</td>\n",
       "      <td>0.000000</td>\n",
       "      <td>2.000000</td>\n",
       "      <td>3.071000e+03</td>\n",
       "      <td>2.520000e+03</td>\n",
       "      <td>1961.000000</td>\n",
       "      <td>8.300000e+05</td>\n",
       "    </tr>\n",
       "    <tr>\n",
       "      <th>max</th>\n",
       "      <td>1844.000000</td>\n",
       "      <td>2261.000000</td>\n",
       "      <td>2261.000000</td>\n",
       "      <td>4.228300e+06</td>\n",
       "      <td>3.750565e+06</td>\n",
       "      <td>2017.000000</td>\n",
       "      <td>2.210000e+09</td>\n",
       "    </tr>\n",
       "  </tbody>\n",
       "</table>\n",
       "</div>"
      ],
      "text/plain": [
       "       RESIDENTIAL UNITS  COMMERCIAL UNITS   TOTAL UNITS  LAND SQUARE FEET  \\\n",
       "count       48244.000000      48244.000000  48244.000000      4.824400e+04   \n",
       "mean            2.566537          0.249171      2.834632      3.358117e+03   \n",
       "std            17.465481         10.988072     20.750418      3.143590e+04   \n",
       "min             0.000000          0.000000      0.000000      0.000000e+00   \n",
       "25%             1.000000          0.000000      1.000000      1.413000e+03   \n",
       "50%             1.000000          0.000000      1.000000      2.140000e+03   \n",
       "75%             2.000000          0.000000      2.000000      3.071000e+03   \n",
       "max          1844.000000       2261.000000   2261.000000      4.228300e+06   \n",
       "\n",
       "       GROSS SQUARE FEET    YEAR BUILT    SALE PRICE  \n",
       "count       4.824400e+04  48244.000000  4.824400e+04  \n",
       "mean        3.669753e+03   1827.765173  1.153281e+06  \n",
       "std         2.947491e+04    464.361153  1.340131e+07  \n",
       "min         0.000000e+00      0.000000  0.000000e+00  \n",
       "25%         8.280000e+02   1920.000000  8.042000e+04  \n",
       "50%         1.620000e+03   1931.000000  4.800000e+05  \n",
       "75%         2.520000e+03   1961.000000  8.300000e+05  \n",
       "max         3.750565e+06   2017.000000  2.210000e+09  "
      ]
     },
     "execution_count": 8,
     "metadata": {},
     "output_type": "execute_result"
    }
   ],
   "source": [
    "# Now there are some columns acting as numberical columns that should be\n",
    "# treated as categorical columns. Lets fix that too:\n",
    "categorical_columns = [\n",
    "    'BOROUGH',\n",
    "    'ZIP CODE'\n",
    "]\n",
    "\n",
    "for c in categorical_columns:\n",
    "    sales_df[c] = sales_df[c].astype('category')\n",
    "    \n",
    "sales_df.describe()"
   ]
  },
  {
   "cell_type": "code",
   "execution_count": 9,
   "metadata": {},
   "outputs": [
    {
     "data": {
      "image/png": "[encoded data removed]",
      "text/plain": [
       "<Figure size 288x288 with 2 Axes>"
      ]
     },
     "metadata": {
      "needs_background": "light"
     },
     "output_type": "display_data"
    }
   ],
   "source": [
    "# Lets use matplotlib and pandas to make a correlation matrix, we want to know which numeric \n",
    "# columns correlate most with the sale price:\n",
    "\n",
    "# Pandas gives us the correlation matrix\n",
    "correlation_matrix = sales_df.corr()\n",
    "\n",
    "# Matplotlib code to display it, along with the names of each field on the axes and a \n",
    "# colorbar legend:\n",
    "plt.matshow(correlation_matrix)\n",
    "plt.xticks(range(len(correlation_matrix.columns)), correlation_matrix.columns, rotation='vertical')\n",
    "plt.yticks(range(len(correlation_matrix.columns)), correlation_matrix.columns)\n",
    "plt.colorbar()\n",
    "plt.show()"
   ]
  },
  {
   "cell_type": "code",
   "execution_count": 10,
   "metadata": {},
   "outputs": [],
   "source": [
    "# Notice that nothing really correlates super strongly with sale price... \n",
    "# Gross sq feet is the strongest, in the 0.6 range. \n",
    "# The truth is: real estate is complex. Location matters, and so do a bunch of other factors!"
   ]
  },
  {
   "cell_type": "code",
   "execution_count": 10,
   "metadata": {},
   "outputs": [
    {
     "data": {
      "text/plain": [
       "<AxesSubplot:>"
      ]
     },
     "execution_count": 10,
     "metadata": {},
     "output_type": "execute_result"
    },
    {
     "data": {
      "image/png": "[encoded data removed]",
      "text/plain": [
       "<Figure size 432x288 with 1 Axes>"
      ]
     },
     "metadata": {
      "needs_background": "light"
     },
     "output_type": "display_data"
    }
   ],
   "source": [
    "\n",
    "\n",
    "less_than_500 = sales_df['RESIDENTIAL UNITS']\n",
    "less_than_500 = less_than_500[ less_than_500 < 20 ]\n",
    "less_than_500.plot.box()\n",
    "# less_than_500 < 30"
   ]
  },
  {
   "cell_type": "code",
   "execution_count": 11,
   "metadata": {
    "scrolled": false
   },
   "outputs": [
    {
     "name": "stdout",
     "output_type": "stream",
     "text": [
      "RESIDENTIAL UNITS\n"
     ]
    },
    {
     "data": {
      "image/png": "[encoded data removed]",
      "text/plain": [
       "<Figure size 432x288 with 1 Axes>"
      ]
     },
     "metadata": {
      "needs_background": "light"
     },
     "output_type": "display_data"
    },
    {
     "data": {
      "image/png": "[encoded data removed]",
      "text/plain": [
       "<Figure size 432x288 with 1 Axes>"
      ]
     },
     "metadata": {
      "needs_background": "light"
     },
     "output_type": "display_data"
    },
    {
     "name": "stdout",
     "output_type": "stream",
     "text": [
      "COMMERCIAL UNITS\n"
     ]
    },
    {
     "data": {
      "image/png": "[encoded data removed]",
      "text/plain": [
       "<Figure size 432x288 with 1 Axes>"
      ]
     },
     "metadata": {
      "needs_background": "light"
     },
     "output_type": "display_data"
    },
    {
     "data": {
      "image/png": "[encoded data removed]",
      "text/plain": [
       "<Figure size 432x288 with 1 Axes>"
      ]
     },
     "metadata": {
      "needs_background": "light"
     },
     "output_type": "display_data"
    },
    {
     "name": "stdout",
     "output_type": "stream",
     "text": [
      "TOTAL UNITS\n"
     ]
    },
    {
     "data": {
      "image/png": "[encoded data removed]",
      "text/plain": [
       "<Figure size 432x288 with 1 Axes>"
      ]
     },
     "metadata": {
      "needs_background": "light"
     },
     "output_type": "display_data"
    },
    {
     "data": {
      "image/png": "[encoded data removed]",
      "text/plain": [
       "<Figure size 432x288 with 1 Axes>"
      ]
     },
     "metadata": {
      "needs_background": "light"
     },
     "output_type": "display_data"
    },
    {
     "name": "stdout",
     "output_type": "stream",
     "text": [
      "LAND SQUARE FEET\n"
     ]
    },
    {
     "data": {
      "image/png": "[encoded data removed]",
      "text/plain": [
       "<Figure size 432x288 with 1 Axes>"
      ]
     },
     "metadata": {
      "needs_background": "light"
     },
     "output_type": "display_data"
    },
    {
     "data": {
      "image/png": "[encoded data removed]",
      "text/plain": [
       "<Figure size 432x288 with 1 Axes>"
      ]
     },
     "metadata": {
      "needs_background": "light"
     },
     "output_type": "display_data"
    },
    {
     "name": "stdout",
     "output_type": "stream",
     "text": [
      "GROSS SQUARE FEET\n"
     ]
    },
    {
     "data": {
      "image/png": "[encoded data removed]",
      "text/plain": [
       "<Figure size 432x288 with 1 Axes>"
      ]
     },
     "metadata": {
      "needs_background": "light"
     },
     "output_type": "display_data"
    },
    {
     "data": {
      "image/png": "[encoded data removed]",
      "text/plain": [
       "<Figure size 432x288 with 1 Axes>"
      ]
     },
     "metadata": {
      "needs_background": "light"
     },
     "output_type": "display_data"
    },
    {
     "name": "stdout",
     "output_type": "stream",
     "text": [
      "YEAR BUILT\n"
     ]
    },
    {
     "data": {
      "image/png": "[encoded data removed]",
      "text/plain": [
       "<Figure size 432x288 with 1 Axes>"
      ]
     },
     "metadata": {
      "needs_background": "light"
     },
     "output_type": "display_data"
    },
    {
     "data": {
      "image/png": "[encoded data removed]",
      "text/plain": [
       "<Figure size 432x288 with 1 Axes>"
      ]
     },
     "metadata": {
      "needs_background": "light"
     },
     "output_type": "display_data"
    },
    {
     "name": "stdout",
     "output_type": "stream",
     "text": [
      "SALE PRICE\n"
     ]
    },
    {
     "data": {
      "image/png": "[encoded data removed]",
      "text/plain": [
       "<Figure size 432x288 with 1 Axes>"
      ]
     },
     "metadata": {
      "needs_background": "light"
     },
     "output_type": "display_data"
    },
    {
     "data": {
      "image/png": "[encoded data removed]",
      "text/plain": [
       "<Figure size 432x288 with 1 Axes>"
      ]
     },
     "metadata": {
      "needs_background": "light"
     },
     "output_type": "display_data"
    }
   ],
   "source": [
    "# Pandas can access matplotlib under the hood with some convinenent functions.\n",
    "# Lets make a box plot and histogram for each numerical column.\n",
    "# Lets plot two interesting charts:\n",
    "for column_name, data_type in zip(sales_df.columns, sales_df.dtypes):\n",
    "    if data_type not in ['float', 'int', 'float64', 'int64']: continue\n",
    "\n",
    "    print(column_name)\n",
    "    sales_df.boxplot(column=[column_name])\n",
    "    sales_df.hist(column=[column_name])\n",
    "\n",
    "    # Matplotlib's tight_layout function makes the charts a bit cleaner.\n",
    "    plt.tight_layout()\n",
    "    plt.show()"
   ]
  },
  {
   "cell_type": "code",
   "execution_count": 12,
   "metadata": {
    "scrolled": false
   },
   "outputs": [
    {
     "name": "stdout",
     "output_type": "stream",
     "text": [
      "Filtered: RESIDENTIAL UNITS\n"
     ]
    },
    {
     "data": {
      "image/png": "[encoded data removed]",
      "text/plain": [
       "<Figure size 432x288 with 1 Axes>"
      ]
     },
     "metadata": {
      "needs_background": "light"
     },
     "output_type": "display_data"
    },
    {
     "data": {
      "image/png": "[encoded data removed]",
      "text/plain": [
       "<Figure size 432x288 with 1 Axes>"
      ]
     },
     "metadata": {
      "needs_background": "light"
     },
     "output_type": "display_data"
    },
    {
     "name": "stdout",
     "output_type": "stream",
     "text": [
      "Filtered: COMMERCIAL UNITS\n"
     ]
    },
    {
     "data": {
      "image/png": "[encoded data removed]",
      "text/plain": [
       "<Figure size 432x288 with 1 Axes>"
      ]
     },
     "metadata": {
      "needs_background": "light"
     },
     "output_type": "display_data"
    },
    {
     "data": {
      "image/png": "[encoded data removed]",
      "text/plain": [
       "<Figure size 432x288 with 1 Axes>"
      ]
     },
     "metadata": {
      "needs_background": "light"
     },
     "output_type": "display_data"
    },
    {
     "name": "stdout",
     "output_type": "stream",
     "text": [
      "Filtered: TOTAL UNITS\n"
     ]
    },
    {
     "data": {
      "image/png": "[encoded data removed]",
      "text/plain": [
       "<Figure size 432x288 with 1 Axes>"
      ]
     },
     "metadata": {
      "needs_background": "light"
     },
     "output_type": "display_data"
    },
    {
     "data": {
      "image/png": "[encoded data removed]",
      "text/plain": [
       "<Figure size 432x288 with 1 Axes>"
      ]
     },
     "metadata": {
      "needs_background": "light"
     },
     "output_type": "display_data"
    },
    {
     "name": "stdout",
     "output_type": "stream",
     "text": [
      "Filtered: LAND SQUARE FEET\n"
     ]
    },
    {
     "data": {
      "image/png": "[encoded data removed]",
      "text/plain": [
       "<Figure size 432x288 with 1 Axes>"
      ]
     },
     "metadata": {
      "needs_background": "light"
     },
     "output_type": "display_data"
    },
    {
     "data": {
      "image/png": "[encoded data removed]",
      "text/plain": [
       "<Figure size 432x288 with 1 Axes>"
      ]
     },
     "metadata": {
      "needs_background": "light"
     },
     "output_type": "display_data"
    },
    {
     "name": "stdout",
     "output_type": "stream",
     "text": [
      "Filtered: GROSS SQUARE FEET\n"
     ]
    },
    {
     "data": {
      "image/png": "[encoded data removed]",
      "text/plain": [
       "<Figure size 432x288 with 1 Axes>"
      ]
     },
     "metadata": {
      "needs_background": "light"
     },
     "output_type": "display_data"
    },
    {
     "data": {
      "image/png": "[encoded data removed]",
      "text/plain": [
       "<Figure size 432x288 with 1 Axes>"
      ]
     },
     "metadata": {
      "needs_background": "light"
     },
     "output_type": "display_data"
    },
    {
     "name": "stdout",
     "output_type": "stream",
     "text": [
      "Filtered: YEAR BUILT\n"
     ]
    },
    {
     "data": {
      "image/png": "[encoded data removed]",
      "text/plain": [
       "<Figure size 432x288 with 1 Axes>"
      ]
     },
     "metadata": {
      "needs_background": "light"
     },
     "output_type": "display_data"
    },
    {
     "data": {
      "image/png": "[encoded data removed]",
      "text/plain": [
       "<Figure size 432x288 with 1 Axes>"
      ]
     },
     "metadata": {
      "needs_background": "light"
     },
     "output_type": "display_data"
    },
    {
     "name": "stdout",
     "output_type": "stream",
     "text": [
      "Filtered: SALE PRICE\n"
     ]
    },
    {
     "data": {
      "image/png": "[encoded data removed]",
      "text/plain": [
       "<Figure size 432x288 with 1 Axes>"
      ]
     },
     "metadata": {
      "needs_background": "light"
     },
     "output_type": "display_data"
    },
    {
     "data": {
      "image/png": "[encoded data removed]",
      "text/plain": [
       "<Figure size 432x288 with 1 Axes>"
      ]
     },
     "metadata": {
      "needs_background": "light"
     },
     "output_type": "display_data"
    }
   ],
   "source": [
    "# Interesting... lots of outliers in this dataset!\n",
    "# Lets remove anything with a z-score higher than 1 for each column and plot that.\n",
    "# Note, this code DOES NOT modify sales_df.\n",
    "for column_name, data_type in zip(sales_df.columns, sales_df.dtypes):\n",
    "    if data_type not in ['float', 'int', 'float64', 'int64']: continue\n",
    "    \n",
    "    # This will compute the z_score for each row in the whole column\n",
    "    # and the results will be parallel to our original dataframe.\n",
    "    column_z_score = (sales_df[column_name] - sales_df[column_name].mean()) / sales_df[column_name].std(ddof=0)\n",
    "\n",
    "    # now, grab the original data and filter down to rows with z-scores between -(1, 1)\n",
    "    filtered_column = sales_df[column_name][np.abs(column_z_score) < 1]\n",
    "    \n",
    "    print('Filtered: ' + column_name)\n",
    "    \n",
    "    filtered_column.plot.box()\n",
    "    plt.show()\n",
    "    \n",
    "    filtered_column.plot.hist(bins=20)\n",
    "    plt.show()"
   ]
  },
  {
   "cell_type": "code",
   "execution_count": 13,
   "metadata": {},
   "outputs": [],
   "source": [
    "# Much more interesting...\n",
    "# That's the whirlwind tour of pandas, matplotlib, and jupyter notebook. Now, attempt the exercise."
   ]
  }
 ],
 "metadata": {
  "kernelspec": {
   "display_name": "Python 3",
   "language": "python",
   "name": "python3"
  },
  "language_info": {
   "codemirror_mode": {
    "name": "ipython",
    "version": 3
   },
   "file_extension": ".py",
   "mimetype": "text/x-python",
   "name": "python",
   "nbconvert_exporter": "python",
   "pygments_lexer": "ipython3",
   "version": "3.8.5"
  }
 },
 "nbformat": 4,
 "nbformat_minor": 4
}
