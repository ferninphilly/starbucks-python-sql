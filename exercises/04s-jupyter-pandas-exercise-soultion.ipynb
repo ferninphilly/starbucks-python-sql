{
 "cells": [
  {
   "cell_type": "markdown",
   "metadata": {},
   "source": [
    "# Exercise Solution: Exploring Data With Jupyter, Pandas, and Matplotlib\n",
    "\n",
    "\n",
    "## Fact Finding:\n",
    "\n",
    "Find the answer to each of these questions:\n",
    "\n",
    "* What was the most expensive property sold in the dataset?\n",
    "* How many sales were for less than $10\n",
    "    * How could this possibly be right? (Hint: read the data documentation on Kaggle...)\n",
    "* How many of the properties sold were built prior to 1950?\n",
    "* What is the smallest gross square feet property sold?\n",
    "    * What was the largest?\n",
    "* Which zip code had the fewest number of sales?\n"
   ]
  },
  {
   "cell_type": "code",
   "execution_count": 1,
   "metadata": {},
   "outputs": [
    {
     "name": "stdout",
     "output_type": "stream",
     "text": [
      "Requirement already satisfied: pandas in /usr/local/lib/python3.9/site-packages (1.2.4)\r\n",
      "Requirement already satisfied: pytz>=2017.3 in /usr/local/lib/python3.9/site-packages (from pandas) (2021.1)\r\n",
      "Requirement already satisfied: python-dateutil>=2.7.3 in /usr/local/lib/python3.9/site-packages (from pandas) (2.8.1)\r\n",
      "Requirement already satisfied: numpy>=1.16.5 in /usr/local/lib/python3.9/site-packages (from pandas) (1.20.2)\r\n",
      "Requirement already satisfied: six>=1.5 in /usr/local/Cellar/protobuf/3.13.0_1/libexec/lib/python3.9/site-packages (from python-dateutil>=2.7.3->pandas) (1.15.0)\r\n"
     ]
    },
    {
     "ename": "ModuleNotFoundError",
     "evalue": "No module named 'pandas'",
     "output_type": "error",
     "traceback": [
      "\u001b[0;31m---------------------------------------------------------------------------\u001b[0m",
      "\u001b[0;31mModuleNotFoundError\u001b[0m                       Traceback (most recent call last)",
      "\u001b[0;32m<ipython-input-1-62374d095c49>\u001b[0m in \u001b[0;36m<module>\u001b[0;34m\u001b[0m\n\u001b[1;32m      1\u001b[0m \u001b[0;31m# Before we can start, we should import the libraries we're going to use\u001b[0m\u001b[0;34m\u001b[0m\u001b[0;34m\u001b[0m\u001b[0;34m\u001b[0m\u001b[0m\n\u001b[1;32m      2\u001b[0m \u001b[0mget_ipython\u001b[0m\u001b[0;34m(\u001b[0m\u001b[0;34m)\u001b[0m\u001b[0;34m.\u001b[0m\u001b[0msystem\u001b[0m\u001b[0;34m(\u001b[0m\u001b[0;34m'pip3 install pandas'\u001b[0m\u001b[0;34m)\u001b[0m\u001b[0;34m\u001b[0m\u001b[0;34m\u001b[0m\u001b[0m\n\u001b[0;32m----> 3\u001b[0;31m \u001b[0;32mimport\u001b[0m \u001b[0mpandas\u001b[0m \u001b[0;32mas\u001b[0m \u001b[0mpd\u001b[0m\u001b[0;34m\u001b[0m\u001b[0;34m\u001b[0m\u001b[0m\n\u001b[0m\u001b[1;32m      4\u001b[0m \u001b[0;32mimport\u001b[0m \u001b[0mmatplotlib\u001b[0m\u001b[0;34m.\u001b[0m\u001b[0mpyplot\u001b[0m \u001b[0;32mas\u001b[0m \u001b[0mplt\u001b[0m\u001b[0;34m\u001b[0m\u001b[0;34m\u001b[0m\u001b[0m\n\u001b[1;32m      5\u001b[0m \u001b[0;32mimport\u001b[0m \u001b[0mnumpy\u001b[0m \u001b[0;32mas\u001b[0m \u001b[0mnp\u001b[0m\u001b[0;34m\u001b[0m\u001b[0;34m\u001b[0m\u001b[0m\n",
      "\u001b[0;31mModuleNotFoundError\u001b[0m: No module named 'pandas'"
     ]
    }
   ],
   "source": [
    "# Before we can start, we should import the libraries we're going to use\n",
    "!pip3 install pandas\n",
    "import pandas as pd\n",
    "import matplotlib.pyplot as plt\n",
    "import numpy as np"
   ]
  },
  {
   "cell_type": "code",
   "execution_count": null,
   "metadata": {},
   "outputs": [],
   "source": [
    "# Then load the data\n",
    "path_to_ny_sales = '../../datasets/nyc-property/nyc-rolling-sales.csv'\n",
    "sales_df = pd.read_csv(path_to_ny_sales)\n",
    "sales_df.head()"
   ]
  },
  {
   "cell_type": "code",
   "execution_count": null,
   "metadata": {},
   "outputs": [],
   "source": [
    "# To make things cleaner, I'm also going to drop rows that have a missing:\n",
    "# price, gross square feet, land square feet, or year built.\n",
    "\n",
    "# This code is in the example notebook\n",
    "columns_to_convert = [\n",
    "    'LAND SQUARE FEET',\n",
    "    'GROSS SQUARE FEET',\n",
    "    'SALE PRICE',\n",
    "    'YEAR BUILT'\n",
    "]\n",
    "\n",
    "for column_name in columns_to_convert:\n",
    "    sales_df[column_name] = pd.to_numeric(sales_df[column_name], errors='coerce')\n",
    "    sales_df = sales_df[sales_df[column_name].notna()]\n",
    "    \n",
    "sales_df.describe()"
   ]
  },
  {
   "cell_type": "code",
   "execution_count": null,
   "metadata": {},
   "outputs": [],
   "source": [
    "# What was the most expensive property sold?\n",
    "  # Actually, we can see this in the information above from the .describe() function!\n",
    "  # Max sale price was 2.210000e+09 aka 2.21 BILLION DOLLARS!! \n",
    "# But you can also find it this way:\n",
    "sales_df['SALE PRICE'].max()\n",
    "\n",
    "# Relevant documentation: https://pandas.pydata.org/pandas-docs/stable/reference/api/pandas.DataFrame.max.html"
   ]
  },
  {
   "cell_type": "code",
   "execution_count": null,
   "metadata": {},
   "outputs": [],
   "source": [
    "# How many properties sold were built prior to 1950?\n",
    "# The easiest way to do this is filter the dataframe, then count the rows.\n",
    "before_1950 = sales_df[sales_df['YEAR BUILT'] < 1950]\n",
    "print(len(before_1950))\n",
    "\n",
    "# Note, you could also use the \"count\" function, though it gives more information than we need.\n",
    "  # https://pandas.pydata.org/pandas-docs/stable/reference/api/pandas.DataFrame.count.html\n",
    "before_1950.count()"
   ]
  },
  {
   "cell_type": "code",
   "execution_count": null,
   "metadata": {},
   "outputs": [],
   "source": [
    "# Smallest and largest gross square feet\n",
    "  # Once again, this information was in the \"describe()\" output\n",
    "    # Smallest: 0 square feet (weird right?)\n",
    "    # Largest: 3.750565e+06 aka 3,750,565 square feet (HOLY S***)\n",
    "\n",
    "# Again, you could also find these values using .min() and .max() on the proper columns:\n",
    "print(sales_df['GROSS SQUARE FEET'].min())\n",
    "print(sales_df['GROSS SQUARE FEET'].max())\n",
    "\n",
    "# But, inquiring minds want to know Lets find out what the smallest non-zero property is\n",
    "# I imagine any 0 values are more likely \"missing\" than being a property that actually \n",
    "# doesn't have a size...\n",
    "non_zero_gross_sq_feet = sales_df[sales_df['GROSS SQUARE FEET'] != 0]\n",
    "non_zero_gross_sq_feet['GROSS SQUARE FEET'].min() # 60. Wow, that's a small property. "
   ]
  },
  {
   "cell_type": "code",
   "execution_count": null,
   "metadata": {},
   "outputs": [],
   "source": [
    "# Which zip code had the fewest number of sales?\n",
    "# The easiest way to do this is to use the .value_counts() function on the ZIP CODE column.\n",
    "# This will tell us how many times each zip code appears in the overall data.\n",
    "  # Documentation: https://pandas.pydata.org/pandas-docs/stable/reference/api/pandas.Series.value_counts.html\n",
    "\n",
    "print(sales_df['ZIP CODE'].value_counts())\n",
    "# The data is returned in sorted order based on the count.\n",
    "# So, zip code 11201 has the most sales: 1324\n",
    "# and 10803 only has 1 sale. \n",
    "# We also learned that there are 180 zip codes represented in this dataset."
   ]
  },
  {
   "cell_type": "markdown",
   "metadata": {},
   "source": [
    "## Chart Making:\n",
    "\n",
    "Create the following charts:\n",
    "\n",
    "* A barchart showing how many properties were sold in each borough.\n",
    "    * Use the data documentation to find the names of each borough rather than the 1-5 values.\n",
    "* A pie chart showing the share of sales by borough.\n",
    "    * Use the data documentation to find the names of each borough rather than the 1-5 values.\n",
    "* A barchart showing the average (mean) sale price of property in each zip code.\n",
    "* A scatterplot showing the sales price by the gross square feet.\n",
    "    * **Bonus points**: show the least squares regression line as well!"
   ]
  },
  {
   "cell_type": "code",
   "execution_count": null,
   "metadata": {},
   "outputs": [],
   "source": [
    "# A boxplot showing how many properties were sold in each borough.\n",
    "# We can use value_counts for this too:\n",
    "sales_by_borough = sales_df['BOROUGH'].value_counts()\n",
    "\n",
    "# Replace the numbered boroughs with their names:\n",
    "  # https://pandas.pydata.org/pandas-docs/stable/reference/api/pandas.DataFrame.rename.html\n",
    "sales_by_borough.rename(index={\n",
    "        1: 'Manhattan',\n",
    "        2: 'Bronx',\n",
    "        3: 'Brooklyn',\n",
    "        4: 'Queens',\n",
    "        5: 'Staten Island'\n",
    "    }, \n",
    "    inplace=True\n",
    ")\n",
    "\n",
    "# Make the plot using pandas!\n",
    "  # https://pandas.pydata.org/pandas-docs/stable/reference/api/pandas.DataFrame.plot.bar.html\n",
    "sales_by_borough.plot.bar()"
   ]
  },
  {
   "cell_type": "code",
   "execution_count": null,
   "metadata": {},
   "outputs": [],
   "source": [
    "# Alternative solution:\n",
    "sales_df['BOROUGH'].map({\n",
    "    1 : 'Manhattan',\n",
    "    2 : 'Bronx',\n",
    "    3 : 'Brooklyn',\n",
    "    4 : 'Queens',\n",
    "    5 : 'Staten Island',\n",
    "}).hist()"
   ]
  },
  {
   "cell_type": "code",
   "execution_count": null,
   "metadata": {},
   "outputs": [],
   "source": [
    "# We already have the data, so a pie chart is very easy to make (as long as you know what function to use):\n",
    "  # https://pandas.pydata.org/pandas-docs/stable/reference/api/pandas.DataFrame.plot.pie.html\n",
    "sales_by_borough.plot.pie()"
   ]
  },
  {
   "cell_type": "code",
   "execution_count": null,
   "metadata": {},
   "outputs": [],
   "source": [
    "# A barchart showing the average (mean) sale price of property in each zip code.\n",
    "# This one is a bit trickier... we need to group the data based on the zip code:\n",
    "  # https://pandas.pydata.org/pandas-docs/stable/reference/api/pandas.DataFrame.groupby.html\n",
    "sales_and_zip = sales_df[['ZIP CODE', 'SALE PRICE']]\n",
    "\n",
    "sales_grouped_by_zip = sales_and_zip.groupby(['ZIP CODE']).mean()\n",
    "sales_grouped_by_zip.plot.bar(figsize=(100, 20))"
   ]
  },
  {
   "cell_type": "code",
   "execution_count": null,
   "metadata": {
    "scrolled": false
   },
   "outputs": [],
   "source": [
    "# Hmmmm... that's not very interesting or usable. \n",
    "# 180 values is just too many, and the range of sale prices is also too broad.\n",
    "sales_and_zip = sales_df[['ZIP CODE', 'SALE PRICE']]\n",
    "\n",
    "sales_grouped_by_zip = sales_and_zip.groupby(['ZIP CODE']).mean()\n",
    "\n",
    "# Now, lets sort it by average sale price and just display the top 15\n",
    "sorted_sales_by_zip = sales_grouped_by_zip.sort_values(by=['SALE PRICE'], ascending=False)\n",
    "top_15 = sorted_sales_by_zip[0:15]\n",
    "top_15.plot.bar()\n",
    "\n",
    "# Fun fact, the 10167 zip code is ONE CITY BLOCK on Park Ave.\n",
    "  # (https://www.zip-codes.com/zip-code/10167/zip-code-10167.asp)\n",
    "  # https://en.wikipedia.org/wiki/245_Park_Avenue  "
   ]
  },
  {
   "cell_type": "code",
   "execution_count": null,
   "metadata": {},
   "outputs": [],
   "source": [
    "# Okay, one more, lets leave out the 245 Park Street sale \n",
    "# and look at the next top 15 zips to get a better picture overall:\n",
    "sorted_sales_by_zip[1:16].plot.bar()"
   ]
  },
  {
   "cell_type": "code",
   "execution_count": null,
   "metadata": {},
   "outputs": [],
   "source": [
    "# Finally, A scatterplot showing the sales price by the gross square feet. \n",
    "sales_df.plot.scatter(x='GROSS SQUARE FEET', y='SALE PRICE')"
   ]
  },
  {
   "cell_type": "code",
   "execution_count": null,
   "metadata": {},
   "outputs": [],
   "source": [
    "# To get the regression line we need to do a bit more work and use some lower level libraries directly\n",
    "  # pyplot plot function: https://matplotlib.org/3.2.1/api/_as_gen/matplotlib.pyplot.plot.html\n",
    "  # numpy polyfit: https://numpy.org/doc/1.18/reference/generated/numpy.polyfit.html\n",
    "x = sales_df['GROSS SQUARE FEET']\n",
    "y = sales_df['SALE PRICE']\n",
    "\n",
    "slope, y_intercept = np.polyfit(x, y, 1) # one is for \"first degree polynomial\" aka, a line.\n",
    "\n",
    "# Plot the scatter, then the line, then show the plot:\n",
    "plt.plot(x, y, 'o') # 'o' is for \"dots\"\n",
    "plt.plot(x, y_intercept + slope * x, '-') # '-' is for \"line\""
   ]
  },
  {
   "cell_type": "code",
   "execution_count": null,
   "metadata": {},
   "outputs": [],
   "source": [
    "sales_df['BOROUGH'].hist()"
   ]
  },
  {
   "cell_type": "code",
   "execution_count": null,
   "metadata": {},
   "outputs": [],
   "source": []
  }
 ],
 "metadata": {
  "kernelspec": {
   "display_name": "Python 3",
   "language": "python",
   "name": "python3"
  },
  "language_info": {
   "codemirror_mode": {
    "name": "ipython",
    "version": 3
   },
   "file_extension": ".py",
   "mimetype": "text/x-python",
   "name": "python",
   "nbconvert_exporter": "python",
   "pygments_lexer": "ipython3",
   "version": "3.9.0"
  }
 },
 "nbformat": 4,
 "nbformat_minor": 4
}
